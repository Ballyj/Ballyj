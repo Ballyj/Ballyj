{
  "nbformat": 4,
  "nbformat_minor": 0,
  "metadata": {
    "colab": {
      "provenance": [],
      "authorship_tag": "ABX9TyNUMiQuPGZDXQvvxbQ6pE17",
      "include_colab_link": true
    },
    "kernelspec": {
      "name": "python3",
      "display_name": "Python 3"
    },
    "language_info": {
      "name": "python"
    }
  },
  "cells": [
    {
      "cell_type": "markdown",
      "metadata": {
        "id": "view-in-github",
        "colab_type": "text"
      },
      "source": [
        "<a href=\"https://colab.research.google.com/github/Ballyj/Ballyj/blob/main/xcmgSample.ipynb\" target=\"_parent\"><img src=\"https://colab.research.google.com/assets/colab-badge.svg\" alt=\"Open In Colab\"/></a>"
      ]
    },
    {
      "cell_type": "code",
      "source": [
        "from datetime import datetime\n",
        "\n",
        "def generate_receipt(spare_parts, receipt_number):\n",
        "    total_cost = 0\n",
        "    receipt = []\n",
        "    receipt.append(\"=\" * 40)\n",
        "    receipt.append(f\"RECEIPT NO: {receipt_number}\")\n",
        "    receipt.append(f\"DATE: {datetime.now().strftime('%Y-%m-%d %H:%M:%S')}\")\n",
        "    receipt.append(\"=\" * 40)\n",
        "    receipt.append(\"%-20s %10s %10s\" % (\"Part Name\", \"Qty\", \"Total\"))\n",
        "    receipt.append(\"-\" * 40)\n",
        "\n",
        "    for part in spare_parts:\n",
        "        part_name = part[\"name\"]\n",
        "        quantity = part[\"quantity\"]\n",
        "        unit_price = part[\"unit_price\"]\n",
        "        total_price = quantity * unit_price\n",
        "        total_cost += total_price\n",
        "        receipt.append(\"%-20s %10d %10.2f\" % (part_name, quantity, total_price))\n",
        "\n",
        "    receipt.append(\"-\" * 40)\n",
        "    receipt.append(\"%-20s %10s %10.2f\" % (\"TOTAL\", \"\", total_cost))\n",
        "    receipt.append(\"=\" * 40)\n",
        "\n",
        "    return \"\\n\".join(receipt)\n",
        "\n",
        "# Example usage:\n",
        "spare_parts = [\n",
        "    {\"name\": \"Brake Pad\", \"quantity\": 2, \"unit_price\": 25.50},\n",
        "    {\"name\": \"Oil Filter\", \"quantity\": 1, \"unit_price\": 15.00},\n",
        "    {\"name\": \"Spark Plug\", \"quantity\": 4, \"unit_price\": 8.75}\n",
        "]\n",
        "\n",
        "receipt_number = \"SP12345\"\n",
        "print(generate_receipt(spare_parts, receipt_number))\n"
      ],
      "metadata": {
        "colab": {
          "base_uri": "https://localhost:8080/"
        },
        "id": "jEAJfOVZxBA8",
        "outputId": "f025ea7f-2019-484b-b743-cc2b318336bc"
      },
      "execution_count": 1,
      "outputs": [
        {
          "output_type": "stream",
          "name": "stdout",
          "text": [
            "========================================\n",
            "RECEIPT NO: SP12345\n",
            "DATE: 2025-02-14 16:31:41\n",
            "========================================\n",
            "Part Name                   Qty      Total\n",
            "----------------------------------------\n",
            "Brake Pad                     2      51.00\n",
            "Oil Filter                    1      15.00\n",
            "Spark Plug                    4      35.00\n",
            "----------------------------------------\n",
            "TOTAL                               101.00\n",
            "========================================\n"
          ]
        }
      ]
    }
  ]
}